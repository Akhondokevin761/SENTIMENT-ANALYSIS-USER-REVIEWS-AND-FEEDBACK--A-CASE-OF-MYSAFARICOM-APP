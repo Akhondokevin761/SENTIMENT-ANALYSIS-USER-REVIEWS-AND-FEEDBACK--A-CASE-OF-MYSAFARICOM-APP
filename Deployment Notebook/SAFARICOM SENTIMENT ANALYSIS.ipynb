{
 "cells": [
  {
   "cell_type": "code",
   "execution_count": 1,
   "id": "428d1e43-612f-491e-a410-a4888d6056e5",
   "metadata": {},
   "outputs": [],
   "source": [
    "#Import libraries\n",
    "# import libraries\n",
    "import pandas as pd\n",
    "import numpy as np\n",
    "import nltk\n",
    "import google_play_scraper\n",
    "from nltk.sentiment.vader import SentimentIntensityAnalyzer\n",
    "from nltk.corpus import stopwords\n",
    "from nltk.tokenize import word_tokenize\n",
    "from nltk.stem import WordNetLemmatizer\n",
    "from google_play_scraper import app, reviews_all"
   ]
  },
  {
   "cell_type": "code",
   "execution_count": 2,
   "id": "47f85947-9851-4875-9c11-f58d956e3f52",
   "metadata": {},
   "outputs": [
    {
     "name": "stdout",
     "output_type": "stream",
     "text": [
      "{'title': 'MySafaricom', 'description': 'MySafaricom provides an easy and efficient way for customers to access Safaricom products and services under one roof. The app is available on both iOS and Android\\r\\n \\r\\nWith the MySafaricom App you can: \\r\\n \\r\\nM-PESA SEND MONEY- Select your contacts directly from your phone book, Hakikisha the name of the person you are transferring money to & check the transaction charges before hitting the send button.\\r\\n \\r\\nLIPA NA M-PESA – Shop and pay your bills with ease at your favorite stores \\r\\n \\r\\nTOP-UP - Recharge your number and your loved ones by selecting their number directly from your phone book.\\r\\n \\r\\nVIEW BALANCES - View your account balances for Data, Bonga, Airtime or Credit limit\\r\\n \\r\\nHOME FIBRE - Safaricom Home Fibre customers will be able to pay or change their Home Fibre plans', 'descriptionHTML': 'MySafaricom provides an easy and efficient way for customers to access Safaricom products and services under one roof. The app is available on both iOS and Android<br> <br>With the MySafaricom App you can: <br> <br>M-PESA SEND MONEY- Select your contacts directly from your phone book, Hakikisha the name of the person you are transferring money to &amp; check the transaction charges before hitting the send button.<br> <br>LIPA NA M-PESA – Shop and pay your bills with ease at your favorite stores <br> <br>TOP-UP - Recharge your number and your loved ones by selecting their number directly from your phone book.<br> <br>VIEW BALANCES - View your account balances for Data, Bonga, Airtime or Credit limit<br> <br>HOME FIBRE - Safaricom Home Fibre customers will be able to pay or change their Home Fibre plans', 'summary': 'MySafaricom provides easy access to Safaricom products and services.', 'installs': '5,000,000+', 'minInstalls': 5000000, 'realInstalls': 8158943, 'score': 4.582948, 'ratings': 391246, 'reviews': 42847, 'histogram': [17124, 6175, 16786, 42562, 308593], 'price': 0, 'free': True, 'currency': 'KES', 'sale': False, 'saleTime': None, 'originalPrice': None, 'saleText': None, 'offersIAP': False, 'inAppProductPrice': None, 'developer': 'Safaricom Limited', 'developerId': 'Safaricom+Limited', 'developerEmail': 'customercare@safaricom.co.ke', 'developerWebsite': 'https://safaricom.co.ke', 'developerAddress': 'Safaricom Limited\\nP. O. Box 66827, 00800 Nairobi\\nTelephone: +254 20 427 3272 / 0722 00 3272', 'privacyPolicy': 'https://www.safaricom.co.ke/dataprivacystatement/', 'genre': 'Lifestyle', 'genreId': 'LIFESTYLE', 'categories': [{'name': 'Lifestyle', 'id': 'LIFESTYLE'}], 'icon': 'https://play-lh.googleusercontent.com/-I0H-O4ci60DpnpEUIUo8NHD2ldyB0Dn4JsxjRuhXW8PKU6Z0eO5YUGqGwaKTgOchw', 'headerImage': 'https://play-lh.googleusercontent.com/-pbgcwBMX6xUuA1fXLMD3H3sbePjZH7gALk5Rnc8FOzqc7yyY4-GYf2c-vcfth1Sbw', 'screenshots': ['https://play-lh.googleusercontent.com/Z_Xepf8UeHfpOwDqZ2JrCO0N-5fkIHPdWbWEweyAyLYZ1XyiQrzvoBVnsAGnQbqNgA', 'https://play-lh.googleusercontent.com/AbxSKdONkik8y7CXWfYekSr4KcANu9Ym0XdW9EoKKkDka3NLxYteDGan2x25xetH_F0', 'https://play-lh.googleusercontent.com/KEnVK0I91cnZw75JjG3CKV4sH_0l2uv5op6De_srT8DbRjWcC7irmCLWhwuUyKymOA', 'https://play-lh.googleusercontent.com/fXs3RHMtFP0-oh07IXLw91ouIX2oBdW2TadkgBVDCr6oTz63eNHB408ghUj_hZk_CJCd', 'https://play-lh.googleusercontent.com/SSKbBnTXuiFzlM7WDU8w_N7aZTcLiZvLyXm4f_8HCP9UNldMSSAwg2vlx5lmyQCrhck', 'https://play-lh.googleusercontent.com/GQJMgsmMaW5JFjz_xHSUzLyczQ3Rn0NY43V312YiNv330EUSU08n9kPJUhrSAKMhOUGs'], 'video': None, 'videoImage': None, 'contentRating': 'Rated for 3+', 'contentRatingDescription': None, 'adSupported': False, 'containsAds': False, 'released': 'Sep 25, 2020', 'lastUpdatedOn': 'Jun 21, 2024', 'updated': 1718983903, 'version': '1.24.0.3', 'comments': [], 'appId': 'com.safaricom.mysafaricom', 'url': 'https://play.google.com/store/apps/details?id=com.safaricom.mysafaricom&hl=en&gl=ke'}\n"
     ]
    }
   ],
   "source": [
    "#Collect Safaricom reviews\n",
    "#Name of app package\n",
    "app_name = 'com.safaricom.mysafaricom'\n",
    "#Obtain app details\n",
    "details_app = app(app_name,\n",
    "                  lang='en',#Language\n",
    "                  country='ke')#The country of interest\n",
    "print(details_app)"
   ]
  },
  {
   "cell_type": "code",
   "execution_count": 3,
   "id": "f45fbf0d-161d-48fb-9877-9257f3e05d2a",
   "metadata": {},
   "outputs": [],
   "source": [
    "#Obtain all the reviews of the app\n",
    "from google_play_scraper import Sort, reviews_all #Loading the necessary library\n",
    "app_reviews = reviews_all(app_name,\n",
    "                          sleep_milliseconds=0,\n",
    "                          lang='en',#The language defaults to English\n",
    "                          country='ke',#The country is Kenya\n",
    "                          sort=Sort.NEWEST,#Obtain the newest reviews\n",
    "                          filter_score_with=5)#Brings all scores\n"
   ]
  },
  {
   "cell_type": "code",
   "execution_count": 4,
   "id": "9ccf0b82-07ab-46dd-89b5-899860a1a420",
   "metadata": {},
   "outputs": [
    {
     "name": "stdout",
     "output_type": "stream",
     "text": [
      "{'reviewId': '96e89d11-b1cc-4d2d-a263-4762a0f4e3d6', 'userName': 'A Google user', 'userImage': 'https://play-lh.googleusercontent.com/EGemoI2NTXmTsBVtJqk8jxF9rh8ApRWfsIMQSt2uE4OcpQqbFu7f7NbTK05lx80nuSijCz7sc3a277R67g', 'content': 'wow..surely this up sia very credible very important to use the efficiency of bundles and credit offers ,bundles are not expiring', 'score': 5, 'thumbsUpCount': 0, 'reviewCreatedVersion': '1.24.0.3', 'at': datetime.datetime(2024, 8, 18, 0, 44, 18), 'replyContent': None, 'repliedAt': None, 'appVersion': '1.24.0.3'}\n",
      "{'reviewId': 'ada89e46-c791-4c34-87b0-beb37c448027', 'userName': 'A Google user', 'userImage': 'https://play-lh.googleusercontent.com/EGemoI2NTXmTsBVtJqk8jxF9rh8ApRWfsIMQSt2uE4OcpQqbFu7f7NbTK05lx80nuSijCz7sc3a277R67g', 'content': 'best ever', 'score': 5, 'thumbsUpCount': 0, 'reviewCreatedVersion': '1.24.0.3', 'at': datetime.datetime(2024, 8, 17, 22, 15, 14), 'replyContent': None, 'repliedAt': None, 'appVersion': '1.24.0.3'}\n",
      "{'reviewId': 'e310a0b3-de70-452c-adac-20959cb41893', 'userName': 'A Google user', 'userImage': 'https://play-lh.googleusercontent.com/EGemoI2NTXmTsBVtJqk8jxF9rh8ApRWfsIMQSt2uE4OcpQqbFu7f7NbTK05lx80nuSijCz7sc3a277R67g', 'content': 'convenient', 'score': 5, 'thumbsUpCount': 0, 'reviewCreatedVersion': '1.24.0.3', 'at': datetime.datetime(2024, 8, 17, 21, 31, 57), 'replyContent': None, 'repliedAt': None, 'appVersion': '1.24.0.3'}\n",
      "{'reviewId': 'e927f79b-bfe0-4249-9cc8-e40cf1514113', 'userName': 'A Google user', 'userImage': 'https://play-lh.googleusercontent.com/EGemoI2NTXmTsBVtJqk8jxF9rh8ApRWfsIMQSt2uE4OcpQqbFu7f7NbTK05lx80nuSijCz7sc3a277R67g', 'content': 'cool', 'score': 5, 'thumbsUpCount': 0, 'reviewCreatedVersion': '1.24.0.3', 'at': datetime.datetime(2024, 8, 17, 19, 31, 8), 'replyContent': None, 'repliedAt': None, 'appVersion': '1.24.0.3'}\n",
      "{'reviewId': '8c1515fb-ca5c-478d-9d97-440289654082', 'userName': 'A Google user', 'userImage': 'https://play-lh.googleusercontent.com/EGemoI2NTXmTsBVtJqk8jxF9rh8ApRWfsIMQSt2uE4OcpQqbFu7f7NbTK05lx80nuSijCz7sc3a277R67g', 'content': 'mwangah', 'score': 5, 'thumbsUpCount': 0, 'reviewCreatedVersion': '1.24.0.3', 'at': datetime.datetime(2024, 8, 17, 18, 26, 53), 'replyContent': None, 'repliedAt': None, 'appVersion': '1.24.0.3'}\n"
     ]
    }
   ],
   "source": [
    "#Print the first 5\n",
    "for review in app_reviews[:5]:\n",
    "    print(review)"
   ]
  },
  {
   "cell_type": "code",
   "execution_count": 5,
   "id": "b46d1c05-b293-4ebf-b650-86cd07f7803e",
   "metadata": {},
   "outputs": [
    {
     "name": "stdout",
     "output_type": "stream",
     "text": [
      "                                              review\n",
      "0  wow..surely this up sia very credible very imp...\n",
      "1                                          best ever\n",
      "2                                         convenient\n",
      "3                                               cool\n",
      "4                                            mwangah\n"
     ]
    }
   ],
   "source": [
    "# Creating a function that extracts the review contents and then putting it into a dataframce\n",
    "if isinstance(app_reviews, list) and all(isinstance(review, dict) for review in app_reviews):\n",
    "    # Extract review texts\n",
    "    review_texts = [review.get('content', '') for review in app_reviews]\n",
    "    \n",
    "    # Create a DataFrame with review texts\n",
    "    saf_reviews = pd.DataFrame({\n",
    "        'review': review_texts\n",
    "    })\n",
    "else:\n",
    "    print(\"Unexpected data structure received from the reviews function.\")\n",
    "\n",
    "# Display the DataFrame\n",
    "print(saf_reviews.head())"
   ]
  },
  {
   "cell_type": "code",
   "execution_count": 6,
   "id": "c4cf9e34-5ec9-4282-a531-5ed9432ee2e7",
   "metadata": {},
   "outputs": [
    {
     "data": {
      "text/plain": [
       "(31042, 1)"
      ]
     },
     "execution_count": 6,
     "metadata": {},
     "output_type": "execute_result"
    }
   ],
   "source": [
    "#Checking the shape of the data\n",
    "saf_reviews.shape"
   ]
  },
  {
   "cell_type": "code",
   "execution_count": 7,
   "id": "dd724bd4-8072-44af-a9df-9331717c2e33",
   "metadata": {},
   "outputs": [
    {
     "data": {
      "text/html": [
       "<div>\n",
       "<style scoped>\n",
       "    .dataframe tbody tr th:only-of-type {\n",
       "        vertical-align: middle;\n",
       "    }\n",
       "\n",
       "    .dataframe tbody tr th {\n",
       "        vertical-align: top;\n",
       "    }\n",
       "\n",
       "    .dataframe thead th {\n",
       "        text-align: right;\n",
       "    }\n",
       "</style>\n",
       "<table border=\"1\" class=\"dataframe\">\n",
       "  <thead>\n",
       "    <tr style=\"text-align: right;\">\n",
       "      <th></th>\n",
       "      <th>review</th>\n",
       "    </tr>\n",
       "  </thead>\n",
       "  <tbody>\n",
       "    <tr>\n",
       "      <th>0</th>\n",
       "      <td>wow .. surely sia credible important use effic...</td>\n",
       "    </tr>\n",
       "    <tr>\n",
       "      <th>1</th>\n",
       "      <td>best ever</td>\n",
       "    </tr>\n",
       "    <tr>\n",
       "      <th>2</th>\n",
       "      <td>convenient</td>\n",
       "    </tr>\n",
       "    <tr>\n",
       "      <th>3</th>\n",
       "      <td>cool</td>\n",
       "    </tr>\n",
       "    <tr>\n",
       "      <th>4</th>\n",
       "      <td>mwangah</td>\n",
       "    </tr>\n",
       "  </tbody>\n",
       "</table>\n",
       "</div>"
      ],
      "text/plain": [
       "                                              review\n",
       "0  wow .. surely sia credible important use effic...\n",
       "1                                          best ever\n",
       "2                                         convenient\n",
       "3                                               cool\n",
       "4                                            mwangah"
      ]
     },
     "execution_count": 7,
     "metadata": {},
     "output_type": "execute_result"
    }
   ],
   "source": [
    "#Proceed to Sentiment analysis\n",
    "#Using the below preprocessing steps\n",
    "#Data Preprocessing\n",
    "# create preprocess_text function\n",
    "def preprocess_of_text(text):\n",
    "\n",
    "    # Tokenize the text\n",
    "\n",
    "    tokens = word_tokenize(text.lower())\n",
    "\n",
    "\n",
    "\n",
    "\n",
    "    # Remove stop words\n",
    "\n",
    "    filtered_tokens = [token for token in tokens if token not in stopwords.words('english')]\n",
    "\n",
    "\n",
    "\n",
    "\n",
    "    # Lemmatize the tokens\n",
    "\n",
    "    lemmatizer = WordNetLemmatizer()\n",
    "\n",
    "    lemmatized_tokens = [lemmatizer.lemmatize(token) for token in filtered_tokens]\n",
    "\n",
    "\n",
    "\n",
    "\n",
    "    # Join the tokens back into a string\n",
    "\n",
    "    processed_text = ' '.join(lemmatized_tokens)\n",
    "\n",
    "    return processed_text\n",
    "\n",
    "# apply the function to the IMDB Dataset\n",
    "\n",
    "saf_reviews['review'] = saf_reviews['review'].apply(preprocess_of_text)\n",
    "saf_reviews.head()"
   ]
  },
  {
   "cell_type": "code",
   "execution_count": 10,
   "id": "82b92f78-ad28-444c-9e71-1bfdc94bccee",
   "metadata": {},
   "outputs": [
    {
     "data": {
      "text/html": [
       "<div>\n",
       "<style scoped>\n",
       "    .dataframe tbody tr th:only-of-type {\n",
       "        vertical-align: middle;\n",
       "    }\n",
       "\n",
       "    .dataframe tbody tr th {\n",
       "        vertical-align: top;\n",
       "    }\n",
       "\n",
       "    .dataframe thead th {\n",
       "        text-align: right;\n",
       "    }\n",
       "</style>\n",
       "<table border=\"1\" class=\"dataframe\">\n",
       "  <thead>\n",
       "    <tr style=\"text-align: right;\">\n",
       "      <th></th>\n",
       "      <th>review</th>\n",
       "      <th>sentiment</th>\n",
       "    </tr>\n",
       "  </thead>\n",
       "  <tbody>\n",
       "    <tr>\n",
       "      <th>0</th>\n",
       "      <td>wow .. surely sia credible important use effic...</td>\n",
       "      <td>positive</td>\n",
       "    </tr>\n",
       "    <tr>\n",
       "      <th>1</th>\n",
       "      <td>best ever</td>\n",
       "      <td>positive</td>\n",
       "    </tr>\n",
       "    <tr>\n",
       "      <th>2</th>\n",
       "      <td>convenient</td>\n",
       "      <td>negative</td>\n",
       "    </tr>\n",
       "    <tr>\n",
       "      <th>3</th>\n",
       "      <td>cool</td>\n",
       "      <td>positive</td>\n",
       "    </tr>\n",
       "    <tr>\n",
       "      <th>4</th>\n",
       "      <td>mwangah</td>\n",
       "      <td>negative</td>\n",
       "    </tr>\n",
       "    <tr>\n",
       "      <th>5</th>\n",
       "      <td>app good use , ,</td>\n",
       "      <td>positive</td>\n",
       "    </tr>\n",
       "    <tr>\n",
       "      <th>6</th>\n",
       "      <td>excellent</td>\n",
       "      <td>positive</td>\n",
       "    </tr>\n",
       "    <tr>\n",
       "      <th>7</th>\n",
       "      <td>efficient</td>\n",
       "      <td>positive</td>\n",
       "    </tr>\n",
       "    <tr>\n",
       "      <th>8</th>\n",
       "      <td>awesome</td>\n",
       "      <td>positive</td>\n",
       "    </tr>\n",
       "    <tr>\n",
       "      <th>9</th>\n",
       "      <td>app really great.love it❤❤❤</td>\n",
       "      <td>negative</td>\n",
       "    </tr>\n",
       "    <tr>\n",
       "      <th>10</th>\n",
       "      <td>cool</td>\n",
       "      <td>positive</td>\n",
       "    </tr>\n",
       "    <tr>\n",
       "      <th>11</th>\n",
       "      <td>best app</td>\n",
       "      <td>positive</td>\n",
       "    </tr>\n",
       "    <tr>\n",
       "      <th>12</th>\n",
       "      <td>convenient</td>\n",
       "      <td>negative</td>\n",
       "    </tr>\n",
       "    <tr>\n",
       "      <th>13</th>\n",
       "      <td>n't hang typical saf apps</td>\n",
       "      <td>negative</td>\n",
       "    </tr>\n",
       "    <tr>\n",
       "      <th>14</th>\n",
       "      <td>helpfully</td>\n",
       "      <td>positive</td>\n",
       "    </tr>\n",
       "    <tr>\n",
       "      <th>15</th>\n",
       "      <td>good</td>\n",
       "      <td>positive</td>\n",
       "    </tr>\n",
       "    <tr>\n",
       "      <th>16</th>\n",
       "      <td>good</td>\n",
       "      <td>positive</td>\n",
       "    </tr>\n",
       "    <tr>\n",
       "      <th>17</th>\n",
       "      <td>good app</td>\n",
       "      <td>positive</td>\n",
       "    </tr>\n",
       "    <tr>\n",
       "      <th>18</th>\n",
       "      <td>easy use</td>\n",
       "      <td>positive</td>\n",
       "    </tr>\n",
       "    <tr>\n",
       "      <th>19</th>\n",
       "      <td>excellent</td>\n",
       "      <td>positive</td>\n",
       "    </tr>\n",
       "  </tbody>\n",
       "</table>\n",
       "</div>"
      ],
      "text/plain": [
       "                                               review sentiment\n",
       "0   wow .. surely sia credible important use effic...  positive\n",
       "1                                           best ever  positive\n",
       "2                                          convenient  negative\n",
       "3                                                cool  positive\n",
       "4                                             mwangah  negative\n",
       "5                                    app good use , ,  positive\n",
       "6                                           excellent  positive\n",
       "7                                           efficient  positive\n",
       "8                                             awesome  positive\n",
       "9                         app really great.love it❤❤❤  negative\n",
       "10                                               cool  positive\n",
       "11                                           best app  positive\n",
       "12                                         convenient  negative\n",
       "13                          n't hang typical saf apps  negative\n",
       "14                                          helpfully  positive\n",
       "15                                               good  positive\n",
       "16                                               good  positive\n",
       "17                                           good app  positive\n",
       "18                                           easy use  positive\n",
       "19                                          excellent  positive"
      ]
     },
     "execution_count": 10,
     "metadata": {},
     "output_type": "execute_result"
    }
   ],
   "source": [
    "#We now use an NLTK Sentiment analyzer as follows\n",
    "# initialize NLTK sentiment analyzer\n",
    "\n",
    "analyzer = SentimentIntensityAnalyzer()\n",
    "\n",
    "\n",
    "# create get_sentiment function\n",
    "\n",
    "def get_the_sentiment(text):\n",
    "\n",
    "    scores = analyzer.polarity_scores(text)\n",
    "\n",
    "    sentiment = 'positive' if scores['pos'] >0 else 'negative'\n",
    "\n",
    "    return sentiment\n",
    "\n",
    "# apply get_sentiment function\n",
    "\n",
    "saf_reviews['sentiment'] = saf_reviews['review'].apply(get_the_sentiment)\n",
    "\n",
    "saf_reviews.head(20)"
   ]
  },
  {
   "cell_type": "code",
   "execution_count": 11,
   "id": "510c2474-a3b6-433b-8081-95617ffd78cc",
   "metadata": {},
   "outputs": [],
   "source": [
    "#Load libraries for Bag of words model and classification\n",
    "from sklearn.feature_extraction.text import CountVectorizer, TfidfVectorizer\n",
    "from sklearn.model_selection import train_test_split\n",
    "from sklearn.svm import SVC\n",
    "from sklearn.metrics import accuracy_score, classification_report"
   ]
  },
  {
   "cell_type": "code",
   "execution_count": 12,
   "id": "76f3ef85-f74b-4628-ac54-1e63704f041e",
   "metadata": {},
   "outputs": [
    {
     "data": {
      "text/plain": [
       "0    wow .. surely sia credible important use effic...\n",
       "1                                            best ever\n",
       "2                                           convenient\n",
       "3                                                 cool\n",
       "4                                              mwangah\n",
       "Name: review, dtype: object"
      ]
     },
     "execution_count": 12,
     "metadata": {},
     "output_type": "execute_result"
    }
   ],
   "source": [
    "#View the data\n",
    "new_data = saf_reviews['review']\n",
    "new_data.head()"
   ]
  },
  {
   "cell_type": "code",
   "execution_count": 13,
   "id": "381312a4-eb27-4171-aaf4-650a2b866218",
   "metadata": {},
   "outputs": [],
   "source": [
    "#Building a Bag of Words Model using already loaded vectorizer\n",
    "import joblib\n",
    "import pickle\n",
    "# Load the pre-trained vectorizer from the file\n",
    "with open('tfidf1_vectorizer.pkl', 'rb') as vectorizer_file:\n",
    "    tfidf_vec1 = pickle.load(vectorizer_file)\n",
    "\n"
   ]
  },
  {
   "cell_type": "code",
   "execution_count": 14,
   "id": "cf0411df-6a3f-4d6c-a132-2dce0131d9f6",
   "metadata": {},
   "outputs": [
    {
     "name": "stdout",
     "output_type": "stream",
     "text": [
      "(31042, 3614)\n"
     ]
    }
   ],
   "source": [
    "# Transform the preprocessed new data using the loaded vectorizer\n",
    "# Transform the new data using the loaded vectorizer\n",
    "new_data_vectorized = tfidf_vec1.transform(new_data)\n",
    "new_data_vectorized\n",
    "print(new_data_vectorized.shape) "
   ]
  },
  {
   "cell_type": "code",
   "execution_count": 15,
   "id": "327ac1a7-e698-49ef-95e9-ff7c55f321e6",
   "metadata": {},
   "outputs": [
    {
     "name": "stdout",
     "output_type": "stream",
     "text": [
      "  (0, 3570)\t0.29267789781119585\n",
      "  (0, 3410)\t0.2042877388411633\n",
      "  (0, 3138)\t0.3505616071884366\n",
      "  (0, 2174)\t0.2611075835091962\n",
      "  (0, 1600)\t0.2650592805685046\n",
      "  (0, 746)\t0.2533146738671092\n",
      "  (0, 427)\t0.7396693930936573\n",
      "  (1, 1090)\t0.748418795987716\n",
      "  (1, 315)\t0.6632264363038446\n",
      "  (2, 693)\t1.0\n",
      "  (3, 701)\t1.0\n",
      "  (5, 3410)\t0.713592390485504\n",
      "  (5, 1392)\t0.49167617482314696\n",
      "  (5, 166)\t0.49903951682453157\n",
      "  (6, 1108)\t1.0\n",
      "  (7, 1008)\t1.0\n",
      "  (8, 248)\t1.0\n",
      "  (9, 2559)\t0.38454869936673786\n",
      "  (9, 1894)\t0.34643355136927667\n",
      "  (9, 1709)\t0.7074106353699188\n",
      "  (9, 1411)\t0.3421677290657771\n",
      "  (9, 166)\t0.3385225700784481\n",
      "  (10, 701)\t1.0\n",
      "  (11, 315)\t0.7824420117514227\n",
      "  (11, 166)\t0.6227234524621555\n",
      "  :\t:\n",
      "  (31035, 1392)\t0.576768647348741\n",
      "  (31035, 166)\t0.5854063341506943\n",
      "  (31036, 3445)\t0.309158190516051\n",
      "  (31036, 3032)\t0.28768654995309534\n",
      "  (31036, 2185)\t0.34330743158091853\n",
      "  (31036, 2072)\t0.27024784324846146\n",
      "  (31036, 1909)\t0.265775128310479\n",
      "  (31036, 1375)\t0.4061185470129078\n",
      "  (31036, 836)\t0.5121646394813112\n",
      "  (31036, 318)\t0.28768654995309534\n",
      "  (31036, 166)\t0.22387253256826917\n",
      "  (31037, 3445)\t0.3708254381841352\n",
      "  (31037, 2764)\t0.26135535328745596\n",
      "  (31037, 2430)\t0.4891307308381921\n",
      "  (31037, 2189)\t0.371725989386938\n",
      "  (31037, 622)\t0.5455995544244304\n",
      "  (31037, 318)\t0.34507088674559944\n",
      "  (31038, 2764)\t0.4933349680216355\n",
      "  (31038, 1836)\t0.5003037016925275\n",
      "  (31038, 1392)\t0.4993951278355671\n",
      "  (31038, 166)\t0.5068740688710995\n",
      "  (31039, 2559)\t0.6592316200659494\n",
      "  (31039, 2119)\t0.7519399384959039\n",
      "  (31040, 1392)\t1.0\n",
      "  (31041, 1392)\t1.0\n"
     ]
    }
   ],
   "source": [
    "# View the transformed data (sparse matrix)\n",
    "print(new_data_vectorized)"
   ]
  },
  {
   "cell_type": "code",
   "execution_count": 16,
   "id": "9a8f49ad-df88-4001-b737-e86f4049dc0d",
   "metadata": {},
   "outputs": [
    {
     "name": "stdout",
     "output_type": "stream",
     "text": [
      "LogisticRegression(max_iter=1000)\n"
     ]
    }
   ],
   "source": [
    "# Load the saved model \n",
    "model_path = 'modelslg1/model_lg1.pkl'\n",
    "loaded_model = joblib.load(model_path)\n",
    "print(loaded_model)"
   ]
  },
  {
   "cell_type": "code",
   "execution_count": 17,
   "id": "caf364f1-d448-418d-8fac-e5f8744e7bd7",
   "metadata": {},
   "outputs": [
    {
     "data": {
      "text/plain": [
       "array(['Positive', 'Positive', 'Neutral', ..., 'Positive', 'Positive',\n",
       "       'Positive'], dtype=object)"
      ]
     },
     "execution_count": 17,
     "metadata": {},
     "output_type": "execute_result"
    }
   ],
   "source": [
    "# Make predictions using the loaded model\n",
    "predictions = loaded_model.predict(new_data_vectorized)\n",
    "predictions"
   ]
  },
  {
   "cell_type": "code",
   "execution_count": 19,
   "id": "3c4f82e4-4e77-44ce-8e40-d0c3e75adf31",
   "metadata": {},
   "outputs": [
    {
     "name": "stdout",
     "output_type": "stream",
     "text": [
      "                                                  review sentiment\n",
      "0      wow .. surely sia credible important use effic...  Positive\n",
      "1                                              best ever  Positive\n",
      "2                                             convenient  Positive\n",
      "3                                                   cool  Positive\n",
      "4                                                mwangah  Positive\n",
      "...                                                  ...       ...\n",
      "31037          's better version compared previous one .  Positive\n",
      "31038                                 's good app like .  Positive\n",
      "31039                                      really nice .  Positive\n",
      "31040                                               good  Positive\n",
      "31041                                               good  Positive\n",
      "\n",
      "[31042 rows x 2 columns]\n"
     ]
    }
   ],
   "source": [
    "# Map predictions to labels\n",
    "def map_sentiment(label):\n",
    "    return \"Negative\" if label == 0 else \"Positive\"\n",
    "\n",
    "saf_reviews['sentiment'] = [map_sentiment(pred) for pred in predictions]\n",
    "\n",
    "# Print the DataFrame to view the reviews and their sentiments\n",
    "print(saf_reviews[['review', 'sentiment']])"
   ]
  },
  {
   "cell_type": "code",
   "execution_count": 20,
   "id": "e73f097b-e464-4240-807a-aedee4f2e047",
   "metadata": {},
   "outputs": [],
   "source": [
    "#Saving it to a CSV File\n",
    "saf_reviews.to_csv('Safaricomreviewsfinal.csv', index=False)"
   ]
  }
 ],
 "metadata": {
  "kernelspec": {
   "display_name": "Python 3 (ipykernel)",
   "language": "python",
   "name": "python3"
  },
  "language_info": {
   "codemirror_mode": {
    "name": "ipython",
    "version": 3
   },
   "file_extension": ".py",
   "mimetype": "text/x-python",
   "name": "python",
   "nbconvert_exporter": "python",
   "pygments_lexer": "ipython3",
   "version": "3.10.12"
  }
 },
 "nbformat": 4,
 "nbformat_minor": 5
}
